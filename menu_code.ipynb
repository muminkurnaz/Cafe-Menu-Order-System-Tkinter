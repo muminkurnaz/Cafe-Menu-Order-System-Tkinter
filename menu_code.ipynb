{
 "cells": [
  {
   "cell_type": "code",
   "execution_count": 21,
   "id": "9811dfc6-cdba-4e1c-a3b9-8ca03212de4e",
   "metadata": {},
   "outputs": [
    {
     "name": "stdout",
     "output_type": "stream",
     "text": [
      "Ürün adını girin (Çıkmak için 'q' tuşuna basın):  çay\n",
      "Ürün fiyatını girin:  5\n",
      "Ürün adını girin (Çıkmak için 'q' tuşuna basın):  kahve\n",
      "Ürün fiyatını girin:  10\n",
      "Ürün adını girin (Çıkmak için 'q' tuşuna basın):  q\n"
     ]
    },
    {
     "name": "stdout",
     "output_type": "stream",
     "text": [
      "CSV dosyası başarıyla oluşturuldu.\n"
     ]
    }
   ],
   "source": [
    "import csv\n",
    "\n",
    "def menu_olustur():\n",
    "    menu = []\n",
    "    while True:\n",
    "        urun = input(\"Ürün adını girin (Çıkmak için 'q' tuşuna basın): \")\n",
    "        if urun.lower() == 'q':\n",
    "            break\n",
    "        fiyat = input(\"Ürün fiyatını girin: \")\n",
    "        menu.append((urun, fiyat))\n",
    "    return menu\n",
    "\n",
    "def csv_olustur(menu, dosya_adi=\"menu.csv\"):\n",
    "    with open(dosya_adi, mode='w', newline='', encoding='utf-8') as csvfile:\n",
    "        fieldnames = ['Ürün', 'Fiyat']\n",
    "        writer = csv.DictWriter(csvfile, fieldnames=fieldnames)\n",
    "        writer.writeheader()\n",
    "        for urun, fiyat in menu:\n",
    "            writer.writerow({'Ürün': urun, 'Fiyat': fiyat})\n",
    "\n",
    "if __name__ == \"__main__\":\n",
    "    menu = menu_olustur()\n",
    "    csv_olustur(menu)\n",
    "    print(\"CSV dosyası başarıyla oluşturuldu.\")"
   ]
  },
  {
   "cell_type": "code",
   "execution_count": null,
   "id": "43e52a7e-5861-4fa9-993f-42f02c358236",
   "metadata": {},
   "outputs": [],
   "source": []
  }
 ],
 "metadata": {
  "kernelspec": {
   "display_name": "Python 3 (ipykernel)",
   "language": "python",
   "name": "python3"
  },
  "language_info": {
   "codemirror_mode": {
    "name": "ipython",
    "version": 3
   },
   "file_extension": ".py",
   "mimetype": "text/x-python",
   "name": "python",
   "nbconvert_exporter": "python",
   "pygments_lexer": "ipython3",
   "version": "3.11.7"
  }
 },
 "nbformat": 4,
 "nbformat_minor": 5
}
