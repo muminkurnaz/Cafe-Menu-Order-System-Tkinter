import csv

def menu_olustur():
    menu = []
    while True:
        urun = input("Ürün adını girin (Çıkmak için 'q' tuşuna basın): ")
        if urun.lower() == 'q':
            break
        fiyat = input("Ürün fiyatını girin: ")
        menu.append((urun, fiyat))
    return menu

def menu_goster(menu):
    print("Mevcut Menü:")
    for index, (urun, fiyat) in enumerate(menu, start=1):
        print(f"{index}. {urun}: {fiyat}")

def menu_guncelle(menu):
    while True:
        menu_goster(menu)
        secim = input("Güncellemek veya eklemek istediğiniz ürünün numarasını girin (Çıkmak için 'q' tuşuna basın): ")
        if secim.lower() == 'q':
            break
        try:
            secim = int(secim)
            if secim < 1 or secim > len(menu):
                print("Geçersiz bir seçim yaptınız. Lütfen menüdeki bir numara girin.")
                continue
            
            yeni_urun = input("Yeni ürün adını girin: ")
            yeni_fiyat = input("Yeni ürün fiyatını girin: ")
            
            menu[secim-1] = (yeni_urun, yeni_fiyat)
            print("Ürün başarıyla güncellendi.")
        except ValueError:
            print("Geçersiz bir seçim yaptınız. Lütfen bir numara girin.")

def csv_olustur(menu, dosya_adi="menu.csv"):
    with open(dosya_adi, mode='w', newline='', encoding='utf-8') as csvfile:
        fieldnames = ['Ürün', 'Fiyat']
        writer = csv.DictWriter(csvfile, fieldnames=fieldnames)
        writer.writeheader()
        for urun, fiyat in menu:
            writer.writerow({'Ürün': urun, 'Fiyat': fiyat})

if __name__ == "__main__":
    menu = menu_olustur()
    menu_guncelle(menu)
    csv_olustur(menu)
    print("CSV dosyası menü başarıyla güncellendi.")
