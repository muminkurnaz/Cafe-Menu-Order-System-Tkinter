{
 "cells": [
  {
   "cell_type": "code",
   "execution_count": null,
   "id": "717442f4-892d-4761-bf33-7997d086cdee",
   "metadata": {},
   "outputs": [
    {
     "name": "stdout",
     "output_type": "stream",
     "text": [
      "\n",
      "Menü Yönetimi:\n",
      "1. Mevcut Menüyü Görüntüle\n",
      "2. Menüye Ürün Ekle\n",
      "3. Menüden Ürün Sil\n",
      "4. Menüdeki Ürünleri Düzenle\n",
      "5. Çıkış\n"
     ]
    },
    {
     "name": "stdin",
     "output_type": "stream",
     "text": [
      "Yapmak istediğiniz işlemi seçin:  1\n"
     ]
    },
    {
     "name": "stdout",
     "output_type": "stream",
     "text": [
      "Mevcut Menü:\n",
      "1. ELMA: 15\n",
      "2. ÇAY: 20\n",
      "3. ,Q: Q\n",
      "4. elma: 15\n",
      "5. ELMA: 80\n",
      "\n",
      "Menü Yönetimi:\n",
      "1. Mevcut Menüyü Görüntüle\n",
      "2. Menüye Ürün Ekle\n",
      "3. Menüden Ürün Sil\n",
      "4. Menüdeki Ürünleri Düzenle\n",
      "5. Çıkış\n"
     ]
    }
   ],
   "source": [
    "import csv\n",
    "\n",
    "def menu_olustur():\n",
    "    try:\n",
    "        with open(\"menu.csv\", mode='r', newline='', encoding='utf-8') as csvfile:\n",
    "            reader = csv.DictReader(csvfile)\n",
    "            menu = [(row['Ürün'], row['Fiyat']) for row in reader]\n",
    "    except FileNotFoundError:\n",
    "        menu = []\n",
    "\n",
    "    return menu\n",
    "\n",
    "def menu_goster(menu):\n",
    "    print(\"Mevcut Menü:\")\n",
    "    for index, (urun, fiyat) in enumerate(menu, start=1):\n",
    "        print(f\"{index}. {urun}: {fiyat}\")\n",
    "\n",
    "def menu_ekle(menu):\n",
    "    urun = input(\"Eklemek istediğiniz ürünün adını girin: \")\n",
    "    fiyat = input(\"Eklemek istediğiniz ürünün fiyatını girin: \")\n",
    "    menu.append((urun, fiyat))\n",
    "    print(\"Ürün başarıyla eklendi.\")\n",
    "\n",
    "def menu_sil(menu):\n",
    "    menu_goster(menu)\n",
    "    try:\n",
    "        secim = int(input(\"Silmek istediğiniz ürünün numarasını girin: \"))\n",
    "        if secim < 1 or secim > len(menu):\n",
    "            print(\"Geçersiz bir seçim yaptınız. Lütfen menüdeki bir numara girin.\")\n",
    "            return\n",
    "        del menu[secim - 1]\n",
    "        print(\"Ürün başarıyla silindi.\")\n",
    "    except ValueError:\n",
    "        print(\"Geçersiz bir seçim yaptınız. Lütfen bir numara girin.\")\n",
    "\n",
    "def menu_duzenle(menu):\n",
    "    menu_goster(menu)\n",
    "    try:\n",
    "        secim = int(input(\"Düzenlemek istediğiniz ürünün numarasını girin: \"))\n",
    "        if secim < 1 or secim > len(menu):\n",
    "            print(\"Geçersiz bir seçim yaptınız. Lütfen menüdeki bir numara girin.\")\n",
    "            return\n",
    "        yeni_urun = input(\"Yeni ürün adını girin: \")\n",
    "        yeni_fiyat = input(\"Yeni ürün fiyatını girin: \")\n",
    "        menu[secim - 1] = (yeni_urun, yeni_fiyat)\n",
    "        print(\"Ürün başarıyla güncellendi.\")\n",
    "    except ValueError:\n",
    "        print(\"Geçersiz bir seçim yaptınız. Lütfen bir numara girin.\")\n",
    "\n",
    "def csv_olustur(menu, dosya_adi=\"menu.csv\"):\n",
    "    with open(dosya_adi, mode='w', newline='', encoding='utf-8') as csvfile:\n",
    "        fieldnames = ['Ürün', 'Fiyat']\n",
    "        writer = csv.DictWriter(csvfile, fieldnames=fieldnames)\n",
    "        writer.writeheader()\n",
    "        for urun, fiyat in menu:\n",
    "            writer.writerow({'Ürün': urun, 'Fiyat': fiyat})\n",
    "\n",
    "if __name__ == \"__main__\":\n",
    "    menu = menu_olustur()\n",
    "    while True:\n",
    "        print(\"\\nMenü Yönetimi:\")\n",
    "        print(\"1. Mevcut Menüyü Görüntüle\")\n",
    "        print(\"2. Menüye Ürün Ekle\")\n",
    "        print(\"3. Menüden Ürün Sil\")\n",
    "        print(\"4. Menüdeki Ürünleri Düzenle\")\n",
    "        print(\"5. Çıkış\")\n",
    "        secim = input(\"Yapmak istediğiniz işlemi seçin: \")\n",
    "\n",
    "        if secim == '1':\n",
    "            menu_goster(menu)\n",
    "        elif secim == '2':\n",
    "            menu_ekle(menu)\n",
    "        elif secim == '3':\n",
    "            menu_sil(menu)\n",
    "        elif secim == '4':\n",
    "            menu_duzenle(menu)\n",
    "        elif secim == '5':\n",
    "            csv_olustur(menu)\n",
    "            print(\"CSV dosyası menü başarıyla güncellendi.\")\n",
    "            break\n",
    "        else:\n",
    "            print(\"Geçersiz bir seçim yaptınız. Lütfen tekrar deneyiniz.\")"
   ]
  },
  {
   "cell_type": "code",
   "execution_count": null,
   "id": "31276948-1769-4fd0-b64e-a5e832e1e0fb",
   "metadata": {},
   "outputs": [],
   "source": []
  }
 ],
 "metadata": {
  "kernelspec": {
   "display_name": "Python 3 (ipykernel)",
   "language": "python",
   "name": "python3"
  },
  "language_info": {
   "codemirror_mode": {
    "name": "ipython",
    "version": 3
   },
   "file_extension": ".py",
   "mimetype": "text/x-python",
   "name": "python",
   "nbconvert_exporter": "python",
   "pygments_lexer": "ipython3",
   "version": "3.11.7"
  }
 },
 "nbformat": 4,
 "nbformat_minor": 5
}
